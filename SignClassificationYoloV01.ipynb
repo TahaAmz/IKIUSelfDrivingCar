{
 "cells": [
  {
   "cell_type": "code",
   "execution_count": null,
   "metadata": {},
   "outputs": [],
   "source": [
    "!nvidia-smi\n",
    "\n",
    "%pip install ultalytics\n",
    "\n",
    "from ultalytics import YOLO\n",
    "\n",
    "model = YOLO('yolo8x.pt')\n",
    "model.train(data='content/data_explained.yaml', epochs=70, batch=-1)\n",
    "\n",
    "import locale\n",
    "locale.getpreferredencoding = lambda: \"UTF-8\"\n",
    "model = YOLO(\"content/runs/detect/train/weights/best.pt\")"
   ]
  }
 ],
 "metadata": {
  "kernelspec": {
   "display_name": "torch_env",
   "language": "python",
   "name": "python3"
  },
  "language_info": {
   "codemirror_mode": {
    "name": "ipython",
    "version": 3
   },
   "file_extension": ".py",
   "mimetype": "text/x-python",
   "name": "python",
   "nbconvert_exporter": "python",
   "pygments_lexer": "ipython3",
   "version": "3.11.11"
  }
 },
 "nbformat": 4,
 "nbformat_minor": 2
}
