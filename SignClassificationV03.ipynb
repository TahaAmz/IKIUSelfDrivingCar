{
 "cells": [
  {
   "cell_type": "code",
   "execution_count": 27,
   "metadata": {},
   "outputs": [],
   "source": [
    "import glob\n",
    "import os\n",
    "import random\n",
    "\n",
    "import albumentations as A\n",
    "import cv2\n",
    "import matplotlib.pyplot as plt\n",
    "import numpy as np\n",
    "import torch\n",
    "from albumentations.pytorch import ToTensorV2\n",
    "from sklearn.model_selection import train_test_split\n",
    "from torch.utils.data import Dataset\n",
    "from torchvision import transforms\n",
    "from tqdm import tqdm\n",
    "from PIL import Image"
   ]
  },
  {
   "cell_type": "markdown",
   "metadata": {},
   "source": [
    "# Preprocessing"
   ]
  },
  {
   "cell_type": "markdown",
   "metadata": {},
   "source": [
    "## Stats"
   ]
  },
  {
   "cell_type": "code",
   "execution_count": 16,
   "metadata": {},
   "outputs": [],
   "source": [
    "def calculate_dataset_stats(dataset_dir):\n",
    "    sum_r = sum_g = sum_b = 0.0\n",
    "    sum_sq_r = sum_sq_g = sum_sq_b = 0.0\n",
    "    total_pixels = 0\n",
    "    processed_files = 0\n",
    "    problematic_files = []\n",
    "\n",
    "    total_images = 0\n",
    "    for class_dir in os.listdir(dataset_dir):\n",
    "        class_path = os.path.join(dataset_dir, class_dir)\n",
    "        if os.path.isdir(class_path):\n",
    "            total_images += len([f for f in os.listdir(class_path) \n",
    "                               if f.lower().endswith(('.png', '.jpg', '.jpeg'))])\n",
    "\n",
    "    with tqdm(total=total_images, desc=\"Processing Images\", \n",
    "             unit=\"img\", dynamic_ncols=True) as pbar:\n",
    "        \n",
    "        for class_dir in os.listdir(dataset_dir):\n",
    "            class_path = os.path.join(dataset_dir, class_dir)\n",
    "            if not os.path.isdir(class_path):\n",
    "                continue\n",
    "\n",
    "            for img_name in os.listdir(class_path):\n",
    "                img_path = os.path.join(class_path, img_name)\n",
    "                \n",
    "                if not img_name.lower().endswith(('.png', '.jpg', '.jpeg')):\n",
    "                    problematic_files.append(f\"{img_path} - Not an image\")\n",
    "                    pbar.update(1)\n",
    "                    continue\n",
    "                \n",
    "                try:\n",
    "                    img = cv2.imread(img_path)\n",
    "                    if img is None:\n",
    "                        raise ValueError(\"OpenCV failed to read image\")\n",
    "                        \n",
    "                    img = cv2.cvtColor(img, cv2.COLOR_BGR2RGB)\n",
    "                    if img.dtype != np.uint8:\n",
    "                        raise ValueError(f\"Unexpected dtype: {img.dtype}\")\n",
    "                        \n",
    "                    img = img.astype(np.float32) / 255.0\n",
    "                    \n",
    "                    sum_r += np.sum(img[:, :, 0])\n",
    "                    sum_g += np.sum(img[:, :, 1])\n",
    "                    sum_b += np.sum(img[:, :, 2])\n",
    "                    \n",
    "                    sum_sq_r += np.sum(np.square(img[:, :, 0]))\n",
    "                    sum_sq_g += np.sum(np.square(img[:, :, 1]))\n",
    "                    sum_sq_b += np.sum(np.square(img[:, :, 2]))\n",
    "                    \n",
    "                    total_pixels += img.shape[0] * img.shape[1]\n",
    "                    processed_files += 1\n",
    "\n",
    "                except Exception as e:\n",
    "                    problematic_files.append(f\"{img_path} - {str(e)}\")\n",
    "                \n",
    "                finally:\n",
    "                    pbar.update(1)\n",
    "                    pbar.set_postfix({\n",
    "                        'Processed': processed_files,\n",
    "                        'Errors': len(problematic_files),\n",
    "                        'Current': os.path.basename(class_dir)\n",
    "                    })\n",
    "\n",
    "    if total_pixels == 0:\n",
    "        raise ValueError(\"No valid images processed - check dataset path or file formats\")\n",
    "\n",
    "    mean = [\n",
    "        round(sum_r / total_pixels, 5),\n",
    "        round(sum_g / total_pixels, 5),\n",
    "        round(sum_b / total_pixels, 5)\n",
    "    ]\n",
    "    \n",
    "    std = [\n",
    "        round(np.sqrt((sum_sq_r / total_pixels) - (mean[0] ** 2)), 5),\n",
    "        round(np.sqrt((sum_sq_g / total_pixels) - (mean[1] ** 2)), 5),\n",
    "        round(np.sqrt((sum_sq_b / total_pixels) - (mean[2] ** 2)), 5)\n",
    "    ]\n",
    "\n",
    "    print(\"\\nValidation Summary:\")\n",
    "    print(f\"Total images attempted: {total_images}\")\n",
    "    print(f\"Successfully processed: {processed_files}\")\n",
    "    print(f\"Problematic files: {len(problematic_files)}\")\n",
    "    \n",
    "    if problematic_files:\n",
    "        print(\"\\nFirst 5 errors:\")\n",
    "        for error in problematic_files[:5]:\n",
    "            print(f\" - {error}\")\n",
    "\n",
    "    return mean, std"
   ]
  },
  {
   "cell_type": "code",
   "execution_count": 17,
   "metadata": {},
   "outputs": [
    {
     "name": "stderr",
     "output_type": "stream",
     "text": [
      "Processing Images: 100%|██████████| 6508/6508 [00:39<00:00, 163.93img/s, Processed=6508, Errors=0, Current=turn_right]               "
     ]
    },
    {
     "name": "stdout",
     "output_type": "stream",
     "text": [
      "\n",
      "Validation Summary:\n",
      "Total images attempted: 6508\n",
      "Successfully processed: 6508\n",
      "Problematic files: 0\n",
      "\n",
      "Dataset Statistics:\n",
      "Dataset Mean (RGB): [0.48011, 0.47254, 0.52592]\n",
      "Dataset Std (RGB): [0.20765, 0.21533, 0.20043]\n",
      "\n",
      "Basic validation checks passed!\n"
     ]
    },
    {
     "name": "stderr",
     "output_type": "stream",
     "text": [
      "\n"
     ]
    }
   ],
   "source": [
    "dataset_dir = 'Dataset/Base'\n",
    "mean, std = calculate_dataset_stats(dataset_dir)\n",
    "\n",
    "dataset_mean = [round(float(m), 5) for m in mean]\n",
    "dataset_std = [round(float(s), 5) for s in std]\n",
    "\n",
    "print(\"\\nDataset Statistics:\")\n",
    "print(\"Dataset Mean (RGB):\", dataset_mean)\n",
    "print(\"Dataset Std (RGB):\", dataset_std)\n",
    "\n",
    "assert all(0 <= m <= 1 for m in dataset_mean), \"Mean values out of [0,1] range\"\n",
    "assert all(0 <= s <= 1 for s in dataset_std), \"Std values out of [0,1] range\"\n",
    "\n",
    "if (abs(mean[0]*255 - 0.485 * 255) < 0.01):\n",
    "    print(\"Red mean mismatch\")\n",
    "if (abs(mean[1]*255 - 0.456 * 255) < 0.01):\n",
    "    print(\"Green mean mismatch\")\n",
    "if (abs(mean[2]*255 - 0.406 * 255) < 0.01):\n",
    "    print(\"Blue mean mismatch\")\n",
    "\n",
    "if (abs(std[0]*255 - 0.229 * 255) < 0.01):\n",
    "    print(\"Red std mismatch\")\n",
    "if (abs(std[1]*255 - 0.224 * 255) < 0.01):\n",
    "    print(\"Green std mismatch\")\n",
    "if (abs(std[2]*255 - 0.225 * 255) < 0.01):\n",
    "    print(\"Blue std mismatch\")\n",
    "\n",
    "print(\"\\nBasic validation checks passed!\")"
   ]
  },
  {
   "cell_type": "code",
   "execution_count": null,
   "metadata": {},
   "outputs": [],
   "source": [
    "import hashlib\n",
    "import os\n",
    "\n",
    "import cv2\n",
    "import matplotlib.pyplot as plt\n",
    "import numpy as np\n",
    "from PIL import Image\n",
    "from tqdm import tqdm\n",
    "\n",
    "\n",
    "def get_image_analysis(image_path):\n",
    "    analysis = {}\n",
    "    \n",
    "    analysis['path'] = image_path\n",
    "    analysis['filesize'] = os.path.getsize(image_path)\n",
    "    analysis['modified_time'] = os.path.getmtime(image_path)\n",
    "    \n",
    "    try:\n",
    "        with Image.open(image_path) as img:\n",
    "            analysis['format'] = img.format\n",
    "            analysis['mode'] = img.mode\n",
    "            analysis['size'] = img.size\n",
    "            analysis['info'] = img.info\n",
    "            \n",
    "        img_cv = cv2.imread(image_path, cv2.IMREAD_UNCHANGED)\n",
    "        if img_cv is not None:\n",
    "            analysis['dtype'] = img_cv.dtype\n",
    "            analysis['shape'] = img_cv.shape\n",
    "            analysis['channels'] = img_cv.shape[2] if len(img_cv.shape) > 2 else 1\n",
    "            \n",
    "            analysis['stats'] = {\n",
    "                'min': img_cv.min(),\n",
    "                'max': img_cv.max(),\n",
    "                'mean': img_cv.mean(),\n",
    "                'std': img_cv.std(),\n",
    "                'unique': len(np.unique(img_cv))\n",
    "            }\n",
    "            \n",
    "            analysis['md5'] = hashlib.md5(img_cv.tobytes()).hexdigest()\n",
    "            \n",
    "            analysis['has_alpha'] = (img_cv.shape[2] == 4) if len(img_cv.shape) > 2 else False\n",
    "            \n",
    "        return analysis\n",
    "    except Exception as e:\n",
    "        analysis['error'] = str(e)\n",
    "        return analysis\n",
    "\n",
    "def visualize_image(analysis):\n",
    "    img = cv2.imread(analysis['path'])\n",
    "    if img is None:\n",
    "        return\n",
    "\n",
    "    display_text = [\n",
    "        f\"Size: {analysis['size'][0]}x{analysis['size'][1]}\",\n",
    "        f\"Channels: {analysis['channels']}\",\n",
    "        f\"Mode: {analysis['mode']}\",\n",
    "        f\"Type: {analysis['dtype']}\",\n",
    "        f\"Range: {analysis['stats']['min']}-{analysis['stats']['max']}\",\n",
    "        f\"Mean: {analysis['stats']['mean']:.1f} ± {analysis['stats']['std']:.1f}\"\n",
    "    ]\n",
    "\n",
    "    plt.figure(figsize=(12, 8))\n",
    "    plt.imshow(cv2.cvtColor(img, cv2.COLOR_BGR2RGB))\n",
    "    \n",
    "    plt.text(0.5, -0.1, '\\n'.join(display_text),\n",
    "             transform=plt.gca().transAxes,\n",
    "             verticalalignment='top',\n",
    "             bbox=dict(boxstyle='round', facecolor='white', alpha=0.8))\n",
    "    \n",
    "    plt.axis('off')\n",
    "    plt.show()\n",
    "\n",
    "def analyze_dataset(dataset_root, sample_per_folder=1, save_report=True):\n",
    "    report = []\n",
    "    \n",
    "    for root, dirs, files in os.walk(dataset_root):\n",
    "        if not files:\n",
    "            continue\n",
    "            \n",
    "        image_files = [f for f in files if f.lower().endswith(('.png', '.jpg', '.jpeg'))]\n",
    "        samples = image_files[:sample_per_folder]\n",
    "        \n",
    "        for img_file in samples:\n",
    "            img_path = os.path.join(root, img_file)\n",
    "            analysis = get_image_analysis(img_path)\n",
    "            report.append(analysis)\n",
    "            \n",
    "\n",
    "            print(f\"\\nClass: {os.path.basename(root)}\")\n",
    "            print(f\"Image: {img_file}\")\n",
    "            print(\"-\"*40)\n",
    "            for k, v in analysis.items():\n",
    "                if k == 'exif': continue\n",
    "                if k == 'info': continue\n",
    "                print(f\"{k:>15}: {v}\")\n",
    "                \n",
    "            if 'error' not in analysis:\n",
    "                visualize_image(analysis)\n",
    "            else:\n",
    "                print(f\"Error processing image: {analysis['error']}\")\n",
    "    \n",
    "    if save_report:\n",
    "        with open('dataset_analysis_report.txt', 'w') as f:\n",
    "            for entry in report:\n",
    "                f.write(f\"{'-'*40}\\n\")\n",
    "                for k, v in entry.items():\n",
    "                    f.write(f\"{k:>15}: {v}\\n\")\n",
    "    \n",
    "    return report\n",
    "\n",
    "\n",
    "dataset_path = \"Dataset\"\n",
    "analyze_dataset(dataset_path, sample_per_folder=1)"
   ]
  },
  {
   "cell_type": "markdown",
   "metadata": {},
   "source": [
    "## Data Augmentation"
   ]
  },
  {
   "cell_type": "code",
   "execution_count": 2,
   "metadata": {},
   "outputs": [],
   "source": [
    "dataset_mean = [0.48011, 0.47254, 0.52592]\n",
    "dataset_std = [0.20765, 0.21533, 0.20043]\n",
    "img_size = 32"
   ]
  },
  {
   "cell_type": "code",
   "execution_count": 3,
   "metadata": {},
   "outputs": [],
   "source": [
    "transform_album = A.Compose([\n",
    "        # A.Affine(\n",
    "        #     translate_percent=0.02,\n",
    "        #     scale=(0.95, 1.05),\n",
    "        #     fill=128,\n",
    "        #     p=0.3\n",
    "        # ),\n",
    "        A.Perspective(\n",
    "        scale=(0.05, 0.1),\n",
    "        keep_size=False,\n",
    "        fit_output=True,\n",
    "        interpolation=cv2.INTER_LINEAR,\n",
    "        border_mode=cv2.BORDER_CONSTANT,\n",
    "        fill=0,\n",
    "        p=0.3\n",
    "        ),\n",
    "        A.RandomBrightnessContrast(\n",
    "            brightness_limit=(-0.1, 0.2),\n",
    "            contrast_limit=(-0.1, 0.1),\n",
    "            p=0.5\n",
    "        ),\n",
    "        A.RGBShift(\n",
    "          r_shift_limit=5,\n",
    "          g_shift_limit=5,\n",
    "          b_shift_limit=5,\n",
    "          p=0.5 \n",
    "        ),\n",
    "        # A.GaussianBlur(\n",
    "        #     blur_limit=(3, 7),\n",
    "        #     p=0.2\n",
    "        # ),\n",
    "        A.GaussNoise(\n",
    "            std_range=(0.01, 0.02),\n",
    "            mean_range=(0.04, 0.06),\n",
    "            p=0.2\n",
    "        ),\n",
    "        A.LongestMaxSize(32, interpolation=cv2.INTER_AREA),\n",
    "        A.PadIfNeeded(\n",
    "            min_height=32,\n",
    "            min_width=32,\n",
    "            border_mode=cv2.BORDER_CONSTANT,\n",
    "            fill=0,\n",
    "            position='random'\n",
    "        ),\n",
    "        A.Normalize(\n",
    "            mean=tuple(dataset_mean),\n",
    "            std=tuple(dataset_std)\n",
    "        ),\n",
    "        A.Resize(32, 32),\n",
    "        ToTensorV2()\n",
    "    ])"
   ]
  },
  {
   "cell_type": "code",
   "execution_count": 4,
   "metadata": {},
   "outputs": [],
   "source": [
    "transform_simple = A.Compose([\n",
    "        A.Normalize(\n",
    "            mean=tuple(dataset_mean),\n",
    "            std=tuple(dataset_std)\n",
    "        ),\n",
    "        A.Resize(32, 32),\n",
    "        ToTensorV2()\n",
    "    ])"
   ]
  },
  {
   "cell_type": "code",
   "execution_count": 5,
   "metadata": {},
   "outputs": [],
   "source": [
    "transform_resize = A.Compose([\n",
    "        A.Resize(32, 32),\n",
    "        ToTensorV2()\n",
    "    ])"
   ]
  },
  {
   "cell_type": "code",
   "execution_count": 6,
   "metadata": {},
   "outputs": [],
   "source": [
    "root_dir_dataset = r'Dataset/Base'\n",
    "root_dir_augmented = r'Dataset/Augmented'\n",
    "os.makedirs(root_dir_augmented, exist_ok=True)\n",
    "\n",
    "images_path_list = []\n",
    "labels_path_list = []\n",
    "class_idx = {}\n",
    "augmentation_count = 5\n",
    "\n",
    "class_names = sorted([d for d in os.listdir(root_dir_dataset)\n",
    "                      if os.path.isdir(os.path.join(root_dir_dataset, d))])\n",
    "\n",
    "for cls_idx, class_name in enumerate(class_names):\n",
    "    class_idx[cls_idx] = class_name\n",
    "    images_tmp = os.path.join(root_dir_dataset, class_name, \"*.png\")\n",
    "    images_paths = glob.glob(images_tmp)\n",
    "    \n",
    "    for img_path in images_paths:\n",
    "        images_path_list.append(img_path)\n",
    "        labels_path_list.append(cls_idx)"
   ]
  },
  {
   "cell_type": "code",
   "execution_count": null,
   "metadata": {},
   "outputs": [
    {
     "name": "stderr",
     "output_type": "stream",
     "text": [
      "Augmenting Images: 100%|██████████| 32540/32540 [03:57<00:00, 137.08img/s, Processing: turn_right/11_frame_00555_aug_05.png]               \n"
     ]
    },
    {
     "name": "stdout",
     "output_type": "stream",
     "text": [
      "\n",
      "Augmentation complete. 6508 → 32540 files\n",
      "Augmented images saved in: c:\\Users\\tahaa\\Documents\\PythonProjects\\MachineLearning\\IKIUSelfDrivingCar\\Dataset\\Augmented\n"
     ]
    }
   ],
   "source": [
    "pbar = tqdm(total=len(images_path_list) * augmentation_count, \n",
    "            desc=\"Augmenting Images\", \n",
    "            unit=\"img\", \n",
    "            dynamic_ncols=True)\n",
    "\n",
    "for class_name in class_names:\n",
    "    class_dir = os.path.join(root_dir_augmented, class_name)\n",
    "    os.makedirs(class_dir, exist_ok=True)\n",
    "    \n",
    "    if not os.path.exists(class_dir):\n",
    "        raise RuntimeError(f\"Failed to create directory: {class_dir}\")\n",
    "\n",
    "for img_path in images_path_list:\n",
    "    class_name = os.path.basename(os.path.dirname(img_path))\n",
    "    base_name = os.path.splitext(os.path.basename(img_path))[0]\n",
    "    \n",
    "    img = cv2.imread(img_path)\n",
    "    if img is None:\n",
    "        print(f\"Warning: Could not read image {img_path}\")\n",
    "        pbar.update(augmentation_count)\n",
    "        continue\n",
    "    img = cv2.cvtColor(img, cv2.COLOR_BGR2RGB)\n",
    "    base_name = os.path.splitext(os.path.basename(img_path))[0]\n",
    "    \n",
    "    for aug_num in range(1, augmentation_count + 1):\n",
    "        transformed = transform_album(image=img)\n",
    "        transformed_img = transformed['image']\n",
    "        \n",
    "        transformed_img = transformed_img.permute(1, 2, 0).numpy()\n",
    "        transformed_img = (transformed_img * np.array(dataset_std) + np.array(dataset_mean))\n",
    "        transformed_img = np.clip(transformed_img * 255, 0, 255).astype(np.uint8)\n",
    "        \n",
    "        new_filename = f\"{base_name}_aug_{aug_num:02d}.png\"\n",
    "        new_path = os.path.join(root_dir_augmented, class_name, new_filename)\n",
    "        \n",
    "        if not os.path.exists(os.path.dirname(new_path)):\n",
    "            os.makedirs(os.path.dirname(new_path), exist_ok=True)\n",
    "        \n",
    "        try:\n",
    "            save_success = cv2.imwrite(new_path, cv2.cvtColor(transformed_img, cv2.COLOR_RGB2BGR))\n",
    "            if not save_success:\n",
    "                Image.fromarray(transformed_img).save(new_path)\n",
    "                print(f\"Used PIL fallback for {new_path}\")\n",
    "        except Exception as save_error:\n",
    "            print(f\"Failed to save {new_path}: {str(save_error)}\")\n",
    "            continue\n",
    "        \n",
    "        pbar.update(1)\n",
    "        pbar.set_postfix_str(f\"Processing: {class_name}/{new_filename}\")\n",
    "\n",
    "pbar.close()\n",
    "output_files = glob.glob(os.path.join(root_dir_augmented, \"**\", \"*.png\"), recursive=True)\n",
    "print(f\"\\nAugmentation complete. {len(images_path_list)} → {len(images_path_list)*augmentation_count} files\")\n",
    "print(f\"Augmented images saved in: {os.path.abspath(root_dir_augmented)}\")"
   ]
  },
  {
   "cell_type": "code",
   "execution_count": null,
   "metadata": {},
   "outputs": [
    {
     "name": "stderr",
     "output_type": "stream",
     "text": [
      "Processing Images: 100%|██████████| 6508/6508 [00:30<00:00, 214.61img/s]"
     ]
    },
    {
     "name": "stdout",
     "output_type": "stream",
     "text": [
      "\n",
      "Processing complete. 6508 images replaced\n",
      "Original images overwritten in: c:\\Users\\tahaa\\Documents\\PythonProjects\\MachineLearning\\IKIUSelfDrivingCar\\Dataset\\Base\n"
     ]
    },
    {
     "name": "stderr",
     "output_type": "stream",
     "text": [
      "\n"
     ]
    }
   ],
   "source": [
    "images_path_list = []\n",
    "for class_name in os.listdir(root_dir_dataset):\n",
    "    class_path = os.path.join(root_dir_dataset, class_name)\n",
    "    if os.path.isdir(class_path):\n",
    "        images_path_list.extend(glob.glob(os.path.join(class_path, \"*.png\")))\n",
    "\n",
    "pbar = tqdm(total=len(images_path_list), \n",
    "           desc=\"Processing Images\", \n",
    "           unit=\"img\", \n",
    "           dynamic_ncols=True)\n",
    "\n",
    "for img_path in images_path_list:\n",
    "    try:\n",
    "        img = cv2.cvtColor(cv2.imread(img_path), cv2.COLOR_BGR2RGB)\n",
    "        \n",
    "        transformed = transform_simple(image=img)\n",
    "        processed_img = transformed['image']\n",
    "        \n",
    "        processed_img = processed_img.permute(1, 2, 0).numpy()\n",
    "        processed_img = (processed_img * dataset_std + dataset_mean) * 255\n",
    "        processed_img = processed_img.clip(0, 255).astype(np.uint8)\n",
    "        \n",
    "        cv2.imwrite(img_path, cv2.cvtColor(processed_img, cv2.COLOR_RGB2BGR))\n",
    "        pbar.update(1)\n",
    "        \n",
    "    except Exception as e:\n",
    "        print(f\"\\nError processing {img_path}: {str(e)}\")\n",
    "        continue\n",
    "\n",
    "pbar.close()\n",
    "print(f\"\\nProcessing complete. {len(images_path_list)} images replaced\")\n",
    "print(f\"Original images overwritten in: {os.path.abspath(root_dir_dataset)}\")"
   ]
  },
  {
   "cell_type": "markdown",
   "metadata": {},
   "source": [
    "## Dataset Class"
   ]
  },
  {
   "cell_type": "code",
   "execution_count": 7,
   "metadata": {},
   "outputs": [],
   "source": [
    "class TrafficSignDB(Dataset):\n",
    "    def __init__(self, images_path_list, labels_path_list, transform=None):\n",
    "        self.images_path_list = images_path_list\n",
    "        self.labels_path_list = labels_path_list\n",
    "        self.transform = transform\n",
    "        self.class_names = sorted(list(set(os.path.basename(os.path.dirname(p)) for p in images_path_list)))\n",
    "        self.idx_to_class = self._create_label_mapping()\n",
    "        \n",
    "    def _create_label_mapping(self):\n",
    "        return {idx: name for idx, name in enumerate(class_names)}\n",
    "    \n",
    "    def __len__(self):\n",
    "        return len(self.images_path_list)\n",
    "    \n",
    "    def __getitem__(self, index):\n",
    "        path = self.images_path_list[index]\n",
    "        label = self.labels_path_list[index]\n",
    "        \n",
    "        try:\n",
    "            import cv2\n",
    "            image = cv2.imread(path)\n",
    "            if image is None:\n",
    "                raise ValueError(\"Image could not be read\")\n",
    "            image = cv2.cvtColor(image, cv2.COLOR_BGR2RGB)\n",
    "            \n",
    "            if self.transform:\n",
    "                if isinstance(self.transform, A.Compose):\n",
    "                    # Albumentations Pipeline\n",
    "                    augmented = self.transform(image=image)\n",
    "                    image = augmented[\"image\"]\n",
    "                else:\n",
    "                    # PyTorch PIL\n",
    "                    from PIL import Image\n",
    "                    image = Image.open(path).convert(\"RGB\")\n",
    "                    image = self.transform(image)\n",
    "            else:\n",
    "                from albumentations.pytorch import ToTensorV2\n",
    "                image = ToTensorV2()(image=image)[\"image\"]\n",
    "            \n",
    "        except Exception as e:\n",
    "            print(f\"Error processing image {path}: {e}\")\n",
    "            image = torch.zeros(3, 32, 32)\n",
    "            \n",
    "        return image, label\n",
    "    \n",
    "    def get_class_name(self, label_idx):\n",
    "        return self.idx_to_class.get(label_idx, \"unknown\")"
   ]
  },
  {
   "cell_type": "code",
   "execution_count": 8,
   "metadata": {},
   "outputs": [],
   "source": [
    "class TrafficSignDBNPY(Dataset):\n",
    "    def __init__(self, X_npy_path, y_npy_path, transform=None):\n",
    "        if isinstance(X_npy_path, (str, bytes, os.PathLike)):\n",
    "            self.X = np.load(X_npy_path)\n",
    "        else:\n",
    "            self.X = X_npy_path\n",
    "\n",
    "        if isinstance(y_npy_path, (str, bytes, os.PathLike)):\n",
    "            self.y = np.load(y_npy_path)\n",
    "        else:\n",
    "            self.y = y_npy_path\n",
    "            \n",
    "        self.transform = transform\n",
    "        self.y_int = np.argmax(self.y, axis=1)\n",
    "        \n",
    "        self.class_names = [\n",
    "            'barred_area',\n",
    "            'cross_walk',\n",
    "            'go_straight',\n",
    "            'no_passing_zone_beginning',\n",
    "            'parking_zone',\n",
    "            'priority_over',\n",
    "            'steep_hill_downhill',\n",
    "            'steep_hill_uphill',\n",
    "            'stop',\n",
    "            'tunnel_beginning',\n",
    "            'turn_left',\n",
    "            'turn_right'\n",
    "        ]\n",
    "        self.idx_to_class = self._create_label_mapping()\n",
    "\n",
    "    def _create_label_mapping(self):\n",
    "        return {idx: name for idx, name in enumerate(class_names)}\n",
    "    \n",
    "    def __len__(self):\n",
    "        return len(self.X)\n",
    "    \n",
    "    def __getitem__(self, index):\n",
    "        path = self.X[index]\n",
    "        label = int(self.y_int[index])\n",
    "        \n",
    "        if self.transform:\n",
    "            image = path.transpose(1, 2, 0)\n",
    "            transformed = self.transform(image=image)\n",
    "            image = transformed[\"image\"]\n",
    "        else:\n",
    "            image = torch.from_numpy(path)\n",
    "        \n",
    "        return image, label\n",
    "    \n",
    "    def get_class_name(self, label_idx):\n",
    "        return self.class_names[label_idx] if label_idx < len(self.class_names) else \"unknown\""
   ]
  },
  {
   "cell_type": "markdown",
   "metadata": {},
   "source": [
    "## Train/Test List and NPY"
   ]
  },
  {
   "cell_type": "code",
   "execution_count": 9,
   "metadata": {},
   "outputs": [],
   "source": [
    "dataset_mean = [0.48011, 0.47254, 0.52592]\n",
    "dataset_std = [0.20765, 0.21533, 0.20043]\n",
    "img_size = 32\n",
    "\n",
    "root_dir = r'Dataset'\n",
    "root_dir_dataset = r'Dataset/Base'\n",
    "root_dir_augmented = r'Dataset/Augmented'\n",
    "\n",
    "train_percentage = 0.2\n",
    "\n",
    "images_path_list_train = []\n",
    "labels_path_list_train = []\n",
    "images_path_list_test = []\n",
    "labels_path_list_test = []\n",
    "class_idx = {}"
   ]
  },
  {
   "cell_type": "code",
   "execution_count": 10,
   "metadata": {},
   "outputs": [],
   "source": [
    "class_names = sorted([d for d in os.listdir(root_dir_dataset)\n",
    "                      if os.path.isdir(os.path.join(root_dir_dataset, d))])\n",
    "\n",
    "for cls_idx, class_name in enumerate(class_names):\n",
    "    class_idx[cls_idx] = class_name\n",
    "    \n",
    "    # Augmented images (training)\n",
    "    aug_pattern = os.path.join(root_dir_augmented, class_name, \"*.png\")\n",
    "    aug_images_paths = glob.glob(aug_pattern)\n",
    "    for img_path in aug_images_paths:\n",
    "        images_path_list_train.append(img_path)\n",
    "        labels_path_list_train.append(cls_idx)\n",
    "\n",
    "    # Dataset images (training and testing)\n",
    "    orig_pattern = os.path.join(root_dir_dataset, class_name, \"*.png\")\n",
    "    orig_images_paths = sorted(glob.glob(orig_pattern))\n",
    "    \n",
    "    train_paths, test_paths = train_test_split(\n",
    "        orig_images_paths,\n",
    "        train_size=train_percentage,\n",
    "        random_state=42,\n",
    "        shuffle=True\n",
    "    )\n",
    "    \n",
    "    images_path_list_train.extend(train_paths)\n",
    "    labels_path_list_train.extend([cls_idx] * len(train_paths))\n",
    "    images_path_list_test.extend(test_paths)\n",
    "    labels_path_list_test.extend([cls_idx] * len(test_paths))"
   ]
  },
  {
   "cell_type": "code",
   "execution_count": 117,
   "metadata": {},
   "outputs": [],
   "source": [
    "def one_hot_encoder(labels, num_classes):\n",
    "    encoded = np.zeros((len(labels), num_classes), dtype=np.float32)\n",
    "    encoded[np.arange(len(labels)), labels] = 1.0\n",
    "    return encoded"
   ]
  },
  {
   "cell_type": "code",
   "execution_count": 118,
   "metadata": {},
   "outputs": [],
   "source": [
    "def process_img_npy(image_paths, labels, save_dir, dataset_type):\n",
    "    os.makedirs(save_dir, exist_ok=True)\n",
    "    X = []\n",
    "    y = []\n",
    "    \n",
    "    mean_arr = np.array(dataset_mean, dtype=np.float32)\n",
    "    std_arr = np.array(dataset_std, dtype=np.float32)\n",
    "    \n",
    "    for img_path, label in tqdm(zip(image_paths, labels), \n",
    "                              total=len(image_paths), \n",
    "                              desc=f\"Processing {save_dir}\"):\n",
    "        try:\n",
    "            img = cv2.imread(img_path)\n",
    "            if img is None:\n",
    "                print(f\"Skipping unreadable file: {img_path}\")\n",
    "                continue\n",
    "            img = cv2.cvtColor(img, cv2.COLOR_BGR2RGB)\n",
    "            img = cv2.resize(img, (img_size, img_size))\n",
    "            \n",
    "            img = img.astype(np.float32) / 255.0\n",
    "            img = (img - mean_arr) / std_arr\n",
    "            \n",
    "            img = np.transpose(img, (2, 0, 1))\n",
    "            \n",
    "            X.append(img)\n",
    "            y.append(label)\n",
    "        except Exception as e:\n",
    "            print(f\"Skipping corrupted file {img_path}: {e}\")\n",
    "    \n",
    "    X = np.array(X, dtype=np.float32)\n",
    "    y = one_hot_encoder(np.array(y, dtype=np.int64), num_classes=len(class_names))\n",
    "    \n",
    "    np.save(os.path.join(save_dir, f'X_{dataset_type}_data.npy'), X)\n",
    "    np.save(os.path.join(save_dir, f'y_{dataset_type}_labels.npy'), y)\n",
    "    print(f\"X shape: {X.shape}, y shape: {y.shape}\") \n",
    "    print(f\"\\nSaved {X.shape[0]} samples to {save_dir}\")"
   ]
  },
  {
   "cell_type": "code",
   "execution_count": 119,
   "metadata": {},
   "outputs": [
    {
     "name": "stderr",
     "output_type": "stream",
     "text": [
      "Processing Dataset: 100%|██████████| 33838/33838 [00:14<00:00, 2346.91it/s]\n"
     ]
    },
    {
     "name": "stdout",
     "output_type": "stream",
     "text": [
      "X shape: (33838, 3, 32, 32), y shape: (33838, 12)\n",
      "\n",
      "Saved 33838 samples to Dataset\n"
     ]
    },
    {
     "name": "stderr",
     "output_type": "stream",
     "text": [
      "Processing Dataset: 100%|██████████| 5210/5210 [00:02<00:00, 2248.16it/s]\n"
     ]
    },
    {
     "name": "stdout",
     "output_type": "stream",
     "text": [
      "X shape: (5210, 3, 32, 32), y shape: (5210, 12)\n",
      "\n",
      "Saved 5210 samples to Dataset\n",
      "\n",
      "Dataset preprocessing complete!\n",
      "Final dataset sizes:\n",
      "- Training: 33838 samples\n",
      "- Testing: 5210 samples\n",
      "One-hot encoded labels shape: (12 classes)\n"
     ]
    }
   ],
   "source": [
    "process_img_npy(images_path_list_train, labels_path_list_train, \n",
    "               root_dir, 'train')\n",
    "process_img_npy(images_path_list_test, labels_path_list_test,\n",
    "               root_dir, 'test')\n",
    "\n",
    "print(\"\\nDataset preprocessing complete!\")\n",
    "print(f\"Final dataset sizes:\")\n",
    "print(f\"- Training: {len(images_path_list_train)} samples\")\n",
    "print(f\"- Testing: {len(images_path_list_test)} samples\")\n",
    "print(f\"One-hot encoded labels shape: ({len(class_names)} classes)\")"
   ]
  },
  {
   "cell_type": "markdown",
   "metadata": {},
   "source": [
    "# EDA"
   ]
  },
  {
   "cell_type": "code",
   "execution_count": 11,
   "metadata": {},
   "outputs": [
    {
     "name": "stdout",
     "output_type": "stream",
     "text": [
      "\n",
      "Verifying NPY file contents:\n",
      "Training data shape: (33838, 3, 32, 32)\n",
      "Training labels shape: (33838, 12)\n",
      "Test data shape: (5210, 3, 32, 32)\n",
      "Test labels shape: (5210, 12)\n"
     ]
    }
   ],
   "source": [
    "def load_npy_data(save_dir, type):\n",
    "    X = np.load(os.path.join(save_dir, f'X_{type}_data.npy'))\n",
    "    y = np.load(os.path.join(save_dir, f'y_{type}_labels.npy'))\n",
    "    return X, y\n",
    "\n",
    "X_train_npy, y_train_npy = load_npy_data(root_dir, 'train')\n",
    "X_test_npy, y_test_npy = load_npy_data(root_dir, 'test')\n",
    "\n",
    "print(\"\\nVerifying NPY file contents:\")\n",
    "print(f\"Training data shape: {X_train_npy.shape}\")\n",
    "print(f\"Training labels shape: {y_train_npy.shape}\")\n",
    "print(f\"Test data shape: {X_test_npy.shape}\")\n",
    "print(f\"Test labels shape: {y_test_npy.shape}\")"
   ]
  },
  {
   "cell_type": "code",
   "execution_count": 12,
   "metadata": {},
   "outputs": [],
   "source": [
    "def denormalize_image(image_tensor, mean, std):\n",
    "    image = image_tensor.cpu().numpy().transpose((1, 2, 0))\n",
    "    mean = np.array(mean)\n",
    "    std = np.array(std)\n",
    "    image = image * std + mean\n",
    "    image = np.clip(image, 0, 1)\n",
    "    return image\n",
    "\n",
    "def verify_dataset(dataset, class_names, data_dir=None):\n",
    "    \"\"\"\n",
    "    Verify dataset by plotting class distribution and a random sample.\n",
    "    \"\"\"\n",
    "    from collections import Counter\n",
    "\n",
    "    import seaborn as sns\n",
    "\n",
    "    # Compute class distribution\n",
    "    counts = Counter(dataset.y_int)\n",
    "    class_labels = sorted(counts.keys())  # Ensure sorted order\n",
    "    class_counts = [counts[cls] for cls in class_labels]\n",
    "    \n",
    "    # 1. Print number of images per class\n",
    "    print(\"\\nClass Distribution Details:\")\n",
    "    for cls_idx in sorted(counts.keys()):\n",
    "        print(f\"{class_names[cls_idx]} (Index {cls_idx}): {counts[cls_idx]} samples\")\n",
    "    \n",
    "    plt.figure(figsize=(15, 6))\n",
    "    \n",
    "    # 2. Fixed barplot with hue parameter\n",
    "    plt.subplot(1, 2, 1)\n",
    "    sns.barplot(\n",
    "        x=class_labels, \n",
    "        y=class_counts, \n",
    "        hue=class_labels,  # Add hue parameter\n",
    "        palette=\"viridis\",\n",
    "        legend=False\n",
    "    )\n",
    "    plt.title(\"Class Distribution\")\n",
    "    plt.xlabel(\"Class Index\")\n",
    "    plt.ylabel(\"Count\")\n",
    "    plt.xticks(rotation=45)\n",
    "    \n",
    "    # Print statistics\n",
    "    print(\"\\nClass Distribution Summary:\")\n",
    "    print(f\"Total samples: {len(dataset)}\")\n",
    "    print(f\"Number of classes: {len(class_names)}\")\n",
    "    print(f\"Mean samples per class: {np.mean(class_counts):.1f}\")\n",
    "    print(f\"Std samples per class: {np.std(class_counts):.1f}\")\n",
    "    \n",
    "    # Plot one random sample from the dataset\n",
    "    plt.subplot(1, 2, 2)\n",
    "    sample_idx = random.randint(0, len(dataset)-1)\n",
    "    img, label = dataset[sample_idx]\n",
    "    if isinstance(img, torch.Tensor):\n",
    "        img_disp = denormalize_image(img, dataset_mean, dataset_std)\n",
    "    else:\n",
    "        img_disp = img.transpose(1, 2, 0)\n",
    "    plt.imshow(img_disp)\n",
    "    plt.title(f\"Random Sample\\nClass: {class_names[label]} (Idx: {label})\")\n",
    "    plt.axis('off')\n",
    "    \n",
    "    plt.tight_layout()\n",
    "    plt.show()\n",
    "    \n",
    "    # Plot one sample per class\n",
    "    plot_one_per_class(dataset, class_names)\n",
    "    \n",
    "    # Optionally, if data_dir is provided, plot samples from the original directory structure\n",
    "    if data_dir:\n",
    "        plot_directory_samples(data_dir, class_names)\n",
    "\n",
    "def plot_one_per_class(dataset, class_names):\n",
    "    \"\"\"\n",
    "    Plot one random sample per class from the dataset.\n",
    "    \"\"\"\n",
    "    # Build a mapping from each class index to list of indices in the dataset\n",
    "    class_to_indices = {i: [] for i in range(len(class_names))}\n",
    "    for idx, label in enumerate(dataset.y_int):\n",
    "        class_to_indices[label].append(idx)\n",
    "    \n",
    "    chosen_indices = []\n",
    "    for cls in sorted(class_to_indices.keys()):\n",
    "        if class_to_indices[cls]:\n",
    "            chosen_indices.append(random.choice(class_to_indices[cls]))\n",
    "    \n",
    "    plt.figure(figsize=(15, 10))\n",
    "    cols = 6\n",
    "    rows = (len(chosen_indices) + cols - 1) // cols\n",
    "    \n",
    "    for i, idx in enumerate(chosen_indices):\n",
    "        plt.subplot(rows, cols, i+1)\n",
    "        img, label = dataset[idx]\n",
    "        if isinstance(img, torch.Tensor):\n",
    "            img_disp = denormalize_image(img, dataset_mean, dataset_std)\n",
    "        else:\n",
    "            img_disp = img.transpose(1, 2, 0)\n",
    "            img_disp = np.clip(img_disp, 0, 1)\n",
    "        plt.imshow(img_disp)\n",
    "        plt.title(f\"{class_names[label]}\\n(Idx: {label})\", fontsize=8)\n",
    "        plt.axis('off')\n",
    "    \n",
    "    plt.suptitle(\"One Random Sample per Class from Dataset\", fontsize=14)\n",
    "    plt.tight_layout()\n",
    "    plt.show()\n",
    "\n",
    "def plot_directory_samples(data_dir, class_names):\n",
    "    \"\"\"\n",
    "    Plot one sample per class from the directory structure.\n",
    "    \"\"\"\n",
    "    train_dir = os.path.join(data_dir, 'Train')\n",
    "    plt.figure(figsize=(15, 10))\n",
    "    cols = 6\n",
    "    rows = (len(class_names) + cols - 1) // cols\n",
    "    for cls_idx, class_name in enumerate(class_names):\n",
    "        plt.subplot(rows, cols, cls_idx+1)\n",
    "        class_dir = os.path.join(train_dir, str(cls_idx))\n",
    "        if os.path.exists(class_dir):\n",
    "            images = [f for f in os.listdir(class_dir) if f.endswith('.png')]\n",
    "            if images:\n",
    "                img_path = os.path.join(class_dir, random.choice(images))\n",
    "                img = plt.imread(img_path)\n",
    "                plt.imshow(img)\n",
    "        plt.title(f\"{class_name}\\n(Idx: {cls_idx})\", fontsize=8)\n",
    "        plt.axis('off')\n",
    "    plt.suptitle(\"Sample Images from Directory Structure\", fontsize=14)\n",
    "    plt.tight_layout()\n",
    "    plt.show()"
   ]
  },
  {
   "cell_type": "code",
   "execution_count": 15,
   "metadata": {},
   "outputs": [],
   "source": [
    "train_dataset = TrafficSignDBNPY(\n",
    "    X_npy_path=r'Dataset/X_train_data.npy',\n",
    "    y_npy_path=r'Dataset/y_train_labels.npy',\n",
    "    transform=transform_resize\n",
    ")\n",
    "\n",
    "test_dataset = TrafficSignDBNPY(\n",
    "    X_npy_path=r'Dataset/X_test_data.npy',\n",
    "    y_npy_path=r'Dataset/y_test_labels.npy',\n",
    "    transform=transform_resize\n",
    ")"
   ]
  },
  {
   "cell_type": "code",
   "execution_count": 16,
   "metadata": {},
   "outputs": [
    {
     "name": "stdout",
     "output_type": "stream",
     "text": [
      "\n",
      "Class Distribution Details:\n",
      "barred_area (Index 0): 3208 samples\n",
      "cross_walk (Index 1): 3021 samples\n",
      "go_straight (Index 2): 2584 samples\n",
      "no_passing_zone_beginning (Index 3): 2938 samples\n",
      "parking_zone (Index 4): 2511 samples\n",
      "priority_over (Index 5): 2995 samples\n",
      "steep_hill_downhill (Index 6): 2220 samples\n",
      "steep_hill_uphill (Index 7): 2490 samples\n",
      "stop (Index 8): 2839 samples\n",
      "tunnel_beginning (Index 9): 3130 samples\n",
      "turn_left (Index 10): 3016 samples\n",
      "turn_right (Index 11): 2886 samples\n",
      "\n",
      "Class Distribution Summary:\n",
      "Total samples: 33838\n",
      "Number of classes: 12\n",
      "Mean samples per class: 2819.8\n",
      "Std samples per class: 287.9\n"
     ]
    },
    {
     "data": {
      "image/png": "[encoded data removed]",
      "text/plain": [
       "<Figure size 1500x600 with 2 Axes>"
      ]
     },
     "metadata": {},
     "output_type": "display_data"
    },
    {
     "data": {
      "image/png": "[encoded data removed]",
      "text/plain": [
       "<Figure size 1500x1000 with 12 Axes>"
      ]
     },
     "metadata": {},
     "output_type": "display_data"
    }
   ],
   "source": [
    "verify_dataset(train_dataset, class_names)"
   ]
  },
  {
   "cell_type": "code",
   "execution_count": 17,
   "metadata": {},
   "outputs": [
    {
     "name": "stdout",
     "output_type": "stream",
     "text": [
      "\n",
      "Class Distribution Details:\n",
      "barred_area (Index 0): 494 samples\n",
      "cross_walk (Index 1): 465 samples\n",
      "go_straight (Index 2): 398 samples\n",
      "no_passing_zone_beginning (Index 3): 452 samples\n",
      "parking_zone (Index 4): 387 samples\n",
      "priority_over (Index 5): 461 samples\n",
      "steep_hill_downhill (Index 6): 342 samples\n",
      "steep_hill_uphill (Index 7): 384 samples\n",
      "stop (Index 8): 437 samples\n",
      "tunnel_beginning (Index 9): 482 samples\n",
      "turn_left (Index 10): 464 samples\n",
      "turn_right (Index 11): 444 samples\n",
      "\n",
      "Class Distribution Summary:\n",
      "Total samples: 5210\n",
      "Number of classes: 12\n",
      "Mean samples per class: 434.2\n",
      "Std samples per class: 44.2\n"
     ]
    },
    {
     "data": {
      "image/png": "[encoded data removed]",
      "text/plain": [
       "<Figure size 1500x600 with 2 Axes>"
      ]
     },
     "metadata": {},
     "output_type": "display_data"
    },
    {
     "data": {
      "image/png": "[encoded data removed]",
      "text/plain": [
       "<Figure size 1500x1000 with 12 Axes>"
      ]
     },
     "metadata": {},
     "output_type": "display_data"
    }
   ],
   "source": [
    "verify_dataset(test_dataset, class_names)"
   ]
  },
  {
   "cell_type": "markdown",
   "metadata": {},
   "source": [
    "# Model"
   ]
  },
  {
   "cell_type": "code",
   "execution_count": 18,
   "metadata": {},
   "outputs": [],
   "source": [
    "import os\n",
    "import time\n",
    "\n",
    "import numpy as np\n",
    "import pandas as pd\n",
    "import torch\n",
    "import torch.nn as nn\n",
    "import torch.nn.functional as F\n",
    "import torch.optim as optim\n",
    "import torchvision.models as models\n",
    "from torch.utils.data import DataLoader, Dataset, TensorDataset\n",
    "from torchsummary import summary\n",
    "from tqdm import tqdm"
   ]
  },
  {
   "cell_type": "markdown",
   "metadata": {},
   "source": [
    "### Dataloader"
   ]
  },
  {
   "cell_type": "code",
   "execution_count": 19,
   "metadata": {},
   "outputs": [],
   "source": [
    "root_dir = r'Dataset'\n",
    "root_dir_model = r'TrainedModels'"
   ]
  },
  {
   "cell_type": "code",
   "execution_count": 20,
   "metadata": {},
   "outputs": [],
   "source": [
    "X_train = np.load(os.path.join(root_dir, 'X_train_data.npy'))\n",
    "y_train = np.load(os.path.join(root_dir, 'y_train_labels.npy'))\n",
    "\n",
    "X_test  = np.load(os.path.join(root_dir, 'X_test_data.npy'))\n",
    "y_test  = np.load(os.path.join(root_dir, 'y_test_labels.npy'))"
   ]
  },
  {
   "cell_type": "code",
   "execution_count": 21,
   "metadata": {},
   "outputs": [],
   "source": [
    "y_train = np.argmax(y_train, axis=1)\n",
    "y_test  = np.argmax(y_test, axis=1)\n",
    "\n",
    "X_train = torch.from_numpy(X_train)\n",
    "y_train = torch.from_numpy(y_train).long()\n",
    "\n",
    "X_test  = torch.from_numpy(X_test)\n",
    "y_test  = torch.from_numpy(y_test).long()"
   ]
  },
  {
   "cell_type": "code",
   "execution_count": 22,
   "metadata": {},
   "outputs": [],
   "source": [
    "train_dataset_Tensor = TensorDataset(X_train, y_train)\n",
    "test_dataset_Tensor = TensorDataset(X_test, y_test)"
   ]
  },
  {
   "cell_type": "code",
   "execution_count": 23,
   "metadata": {},
   "outputs": [],
   "source": [
    "batch_size = 64\n",
    "\n",
    "train_loader = DataLoader(\n",
    "    dataset=train_dataset_Tensor,\n",
    "    batch_size=batch_size,\n",
    "    shuffle=True,\n",
    "    num_workers=0\n",
    "    )\n",
    "test_loader  = DataLoader(\n",
    "    dataset=test_dataset_Tensor,\n",
    "    batch_size=batch_size,\n",
    "    shuffle=False,\n",
    "    num_workers=0\n",
    "    )"
   ]
  },
  {
   "cell_type": "markdown",
   "metadata": {},
   "source": [
    "### CNN Model"
   ]
  },
  {
   "cell_type": "code",
   "execution_count": 24,
   "metadata": {},
   "outputs": [],
   "source": [
    "class TrafficSignCNN(nn.Module):\n",
    "    def __init__(self, num_classes=12):\n",
    "        super(TrafficSignCNN, self).__init__()\n",
    "        \n",
    "       # First convolutional block\n",
    "        self.conv1 = nn.Conv2d(in_channels=3, out_channels=32, kernel_size=5, padding=2)\n",
    "        self.conv2 = nn.Conv2d(in_channels=32, out_channels=32, kernel_size=5, padding=2)\n",
    "        self.pool1 = nn.MaxPool2d(kernel_size=2, stride=2)\n",
    "        self.dropout1 = nn.Dropout(0.25)\n",
    "        # Second convolutional block\n",
    "        self.conv3 = nn.Conv2d(in_channels=32, out_channels=64, kernel_size=3, padding=1)\n",
    "        self.conv4 = nn.Conv2d(in_channels=64, out_channels=64, kernel_size=3, padding=1)\n",
    "        self.pool2 = nn.MaxPool2d(kernel_size=2, stride=2)\n",
    "        self.dropout2 = nn.Dropout(0.25)\n",
    "        # Dense layers\n",
    "        # If input images are 32x32, after two poolings (factor of 4 reduction), spatial size becomes 8x8.\n",
    "        self.flatten_dim = 64 * 8 * 8\n",
    "        self.fc1 = nn.Linear(self.flatten_dim, 256)\n",
    "        self.dropout3 = nn.Dropout(0.5)\n",
    "        self.fc2 = nn.Linear(256, num_classes)\n",
    "    \n",
    "    def forward(self, x):\n",
    "        # First block\n",
    "        x = F.relu(self.conv1(x))\n",
    "        x = F.relu(self.conv2(x))\n",
    "        x = self.pool1(x)\n",
    "        x = self.dropout1(x)\n",
    "        # Second block\n",
    "        x = F.relu(self.conv3(x))\n",
    "        x = F.relu(self.conv4(x))\n",
    "        x = self.pool2(x)\n",
    "        x = self.dropout2(x)\n",
    "        # Flatten\n",
    "        x = x.view(x.size(0), -1)\n",
    "        x = F.relu(self.fc1(x))\n",
    "        x = self.dropout3(x)\n",
    "        x = self.fc2(x)\n",
    "        return x"
   ]
  },
  {
   "cell_type": "code",
   "execution_count": 25,
   "metadata": {},
   "outputs": [
    {
     "name": "stdout",
     "output_type": "stream",
     "text": [
      "Using device: cuda\n"
     ]
    }
   ],
   "source": [
    "device = torch.device(\"cuda\" if torch.cuda.is_available() else \"cpu\")\n",
    "print(f\"Using device: {device}\")"
   ]
  },
  {
   "cell_type": "code",
   "execution_count": 26,
   "metadata": {},
   "outputs": [
    {
     "name": "stdout",
     "output_type": "stream",
     "text": [
      "----------------------------------------------------------------\n",
      "        Layer (type)               Output Shape         Param #\n",
      "================================================================\n",
      "            Conv2d-1           [-1, 32, 32, 32]           2,432\n",
      "            Conv2d-2           [-1, 32, 32, 32]          25,632\n",
      "         MaxPool2d-3           [-1, 32, 16, 16]               0\n",
      "           Dropout-4           [-1, 32, 16, 16]               0\n",
      "            Conv2d-5           [-1, 64, 16, 16]          18,496\n",
      "            Conv2d-6           [-1, 64, 16, 16]          36,928\n",
      "         MaxPool2d-7             [-1, 64, 8, 8]               0\n",
      "           Dropout-8             [-1, 64, 8, 8]               0\n",
      "            Linear-9                  [-1, 256]       1,048,832\n",
      "          Dropout-10                  [-1, 256]               0\n",
      "           Linear-11                   [-1, 12]           3,084\n",
      "================================================================\n",
      "Total params: 1,135,404\n",
      "Trainable params: 1,135,404\n",
      "Non-trainable params: 0\n",
      "----------------------------------------------------------------\n",
      "Input size (MB): 0.01\n",
      "Forward/backward pass size (MB): 0.94\n",
      "Params size (MB): 4.33\n",
      "Estimated Total Size (MB): 5.28\n",
      "----------------------------------------------------------------\n"
     ]
    }
   ],
   "source": [
    "model = TrafficSignCNN(num_classes=12).to(device)\n",
    "summary(model, input_size=(3, 32, 32))"
   ]
  },
  {
   "cell_type": "code",
   "execution_count": 29,
   "metadata": {},
   "outputs": [],
   "source": [
    "criterion = nn.CrossEntropyLoss()\n",
    "optimizer = optim.Adam(model.parameters(), lr=1e-3, weight_decay=1e-5)"
   ]
  },
  {
   "cell_type": "markdown",
   "metadata": {},
   "source": [
    "### Training"
   ]
  },
  {
   "cell_type": "code",
   "execution_count": null,
   "metadata": {},
   "outputs": [
    {
     "name": "stdout",
     "output_type": "stream",
     "text": [
      "Training the model...\n"
     ]
    },
    {
     "name": "stderr",
     "output_type": "stream",
     "text": [
      "Epoch 1/20: 100%|██████████| 529/529 [00:12<00:00, 43.74batch/s, loss=0.00183] \n"
     ]
    },
    {
     "name": "stdout",
     "output_type": "stream",
     "text": [
      "Epoch 1/20: loss=0.1259, accuracy=0.9605, val_loss=0.0002, val_accuracy=1.0000\n",
      "Epoch time: 12.67s, estimated remaining: 240.64s\n",
      "\n"
     ]
    },
    {
     "name": "stderr",
     "output_type": "stream",
     "text": [
      "Epoch 2/20: 100%|██████████| 529/529 [00:14<00:00, 35.36batch/s, loss=0.00838] \n"
     ]
    },
    {
     "name": "stdout",
     "output_type": "stream",
     "text": [
      "Epoch 2/20: loss=0.0133, accuracy=0.9966, val_loss=0.0000, val_accuracy=1.0000\n",
      "Epoch time: 15.51s, estimated remaining: 279.19s\n",
      "\n"
     ]
    },
    {
     "name": "stderr",
     "output_type": "stream",
     "text": [
      "Epoch 3/20: 100%|██████████| 529/529 [00:11<00:00, 46.17batch/s, loss=8.25e-5] \n"
     ]
    },
    {
     "name": "stdout",
     "output_type": "stream",
     "text": [
      "Epoch 3/20: loss=0.0096, accuracy=0.9973, val_loss=0.0000, val_accuracy=1.0000\n",
      "Epoch time: 12.02s, estimated remaining: 204.28s\n",
      "\n"
     ]
    },
    {
     "name": "stderr",
     "output_type": "stream",
     "text": [
      "Epoch 4/20: 100%|██████████| 529/529 [00:11<00:00, 46.04batch/s, loss=0.00148] \n"
     ]
    },
    {
     "name": "stdout",
     "output_type": "stream",
     "text": [
      "Epoch 4/20: loss=0.0055, accuracy=0.9983, val_loss=0.0001, val_accuracy=1.0000\n",
      "Epoch time: 12.05s, estimated remaining: 192.73s\n",
      "\n"
     ]
    },
    {
     "name": "stderr",
     "output_type": "stream",
     "text": [
      "Epoch 5/20: 100%|██████████| 529/529 [00:11<00:00, 45.89batch/s, loss=0.00248] \n"
     ]
    },
    {
     "name": "stdout",
     "output_type": "stream",
     "text": [
      "Epoch 5/20: loss=0.0126, accuracy=0.9970, val_loss=0.0000, val_accuracy=1.0000\n",
      "Epoch time: 12.08s, estimated remaining: 181.26s\n",
      "\n"
     ]
    },
    {
     "name": "stderr",
     "output_type": "stream",
     "text": [
      "Epoch 6/20: 100%|██████████| 529/529 [00:11<00:00, 45.88batch/s, loss=0.000381]\n"
     ]
    },
    {
     "name": "stdout",
     "output_type": "stream",
     "text": [
      "Epoch 6/20: loss=0.0045, accuracy=0.9989, val_loss=0.0000, val_accuracy=1.0000\n",
      "Epoch time: 12.08s, estimated remaining: 169.19s\n",
      "\n"
     ]
    },
    {
     "name": "stderr",
     "output_type": "stream",
     "text": [
      "Epoch 7/20: 100%|██████████| 529/529 [00:11<00:00, 45.93batch/s, loss=0.0132]  \n"
     ]
    },
    {
     "name": "stdout",
     "output_type": "stream",
     "text": [
      "Epoch 7/20: loss=0.0034, accuracy=0.9989, val_loss=0.0000, val_accuracy=1.0000\n",
      "Epoch time: 12.08s, estimated remaining: 156.99s\n",
      "\n"
     ]
    },
    {
     "name": "stderr",
     "output_type": "stream",
     "text": [
      "Epoch 8/20: 100%|██████████| 529/529 [00:11<00:00, 45.87batch/s, loss=1.16e-5] \n"
     ]
    },
    {
     "name": "stdout",
     "output_type": "stream",
     "text": [
      "Epoch 8/20: loss=0.0100, accuracy=0.9979, val_loss=0.0000, val_accuracy=1.0000\n",
      "Epoch time: 12.08s, estimated remaining: 145.01s\n",
      "\n"
     ]
    },
    {
     "name": "stderr",
     "output_type": "stream",
     "text": [
      "Epoch 9/20: 100%|██████████| 529/529 [00:11<00:00, 45.97batch/s, loss=0]       \n"
     ]
    },
    {
     "name": "stdout",
     "output_type": "stream",
     "text": [
      "Epoch 9/20: loss=0.0097, accuracy=0.9976, val_loss=0.0000, val_accuracy=1.0000\n",
      "Epoch time: 12.05s, estimated remaining: 132.60s\n",
      "\n"
     ]
    },
    {
     "name": "stderr",
     "output_type": "stream",
     "text": [
      "Epoch 10/20: 100%|██████████| 529/529 [00:11<00:00, 45.76batch/s, loss=0.0227]  \n"
     ]
    },
    {
     "name": "stdout",
     "output_type": "stream",
     "text": [
      "Epoch 10/20: loss=0.0029, accuracy=0.9993, val_loss=0.0000, val_accuracy=1.0000\n",
      "Epoch time: 12.12s, estimated remaining: 121.16s\n",
      "\n"
     ]
    },
    {
     "name": "stderr",
     "output_type": "stream",
     "text": [
      "Epoch 11/20: 100%|██████████| 529/529 [00:11<00:00, 46.21batch/s, loss=4.15e-8] \n"
     ]
    },
    {
     "name": "stdout",
     "output_type": "stream",
     "text": [
      "Epoch 11/20: loss=0.0108, accuracy=0.9980, val_loss=0.0000, val_accuracy=1.0000\n",
      "Epoch time: 12.00s, estimated remaining: 108.00s\n",
      "\n"
     ]
    },
    {
     "name": "stderr",
     "output_type": "stream",
     "text": [
      "Epoch 12/20: 100%|██████████| 529/529 [00:11<00:00, 45.94batch/s, loss=1.28e-6] \n"
     ]
    },
    {
     "name": "stdout",
     "output_type": "stream",
     "text": [
      "Epoch 12/20: loss=0.0037, accuracy=0.9993, val_loss=0.0000, val_accuracy=1.0000\n",
      "Epoch time: 12.07s, estimated remaining: 96.56s\n",
      "\n"
     ]
    },
    {
     "name": "stderr",
     "output_type": "stream",
     "text": [
      "Epoch 13/20: 100%|██████████| 529/529 [00:11<00:00, 45.94batch/s, loss=3.11e-7] \n"
     ]
    },
    {
     "name": "stdout",
     "output_type": "stream",
     "text": [
      "Epoch 13/20: loss=0.0052, accuracy=0.9989, val_loss=0.0000, val_accuracy=1.0000\n",
      "Epoch time: 12.06s, estimated remaining: 84.39s\n",
      "\n"
     ]
    },
    {
     "name": "stderr",
     "output_type": "stream",
     "text": [
      "Epoch 14/20: 100%|██████████| 529/529 [00:11<00:00, 46.13batch/s, loss=0]       \n"
     ]
    },
    {
     "name": "stdout",
     "output_type": "stream",
     "text": [
      "Epoch 14/20: loss=0.0031, accuracy=0.9992, val_loss=0.0000, val_accuracy=1.0000\n",
      "Epoch time: 12.02s, estimated remaining: 72.09s\n",
      "\n"
     ]
    },
    {
     "name": "stderr",
     "output_type": "stream",
     "text": [
      "Epoch 15/20: 100%|██████████| 529/529 [00:11<00:00, 46.02batch/s, loss=0]       \n"
     ]
    },
    {
     "name": "stdout",
     "output_type": "stream",
     "text": [
      "Epoch 15/20: loss=0.0032, accuracy=0.9994, val_loss=0.0000, val_accuracy=1.0000\n",
      "Epoch time: 12.04s, estimated remaining: 60.22s\n",
      "\n"
     ]
    },
    {
     "name": "stderr",
     "output_type": "stream",
     "text": [
      "Epoch 16/20: 100%|██████████| 529/529 [00:11<00:00, 46.22batch/s, loss=0]       \n"
     ]
    },
    {
     "name": "stdout",
     "output_type": "stream",
     "text": [
      "Epoch 16/20: loss=0.0049, accuracy=0.9988, val_loss=0.0000, val_accuracy=1.0000\n",
      "Epoch time: 11.99s, estimated remaining: 47.97s\n",
      "\n"
     ]
    },
    {
     "name": "stderr",
     "output_type": "stream",
     "text": [
      "Epoch 17/20: 100%|██████████| 529/529 [00:11<00:00, 46.14batch/s, loss=1.58e-7] \n"
     ]
    },
    {
     "name": "stdout",
     "output_type": "stream",
     "text": [
      "Epoch 17/20: loss=0.0033, accuracy=0.9994, val_loss=0.0000, val_accuracy=1.0000\n",
      "Epoch time: 12.02s, estimated remaining: 36.05s\n",
      "\n"
     ]
    },
    {
     "name": "stderr",
     "output_type": "stream",
     "text": [
      "Epoch 18/20: 100%|██████████| 529/529 [00:11<00:00, 46.08batch/s, loss=0]       \n"
     ]
    },
    {
     "name": "stdout",
     "output_type": "stream",
     "text": [
      "Epoch 18/20: loss=0.0076, accuracy=0.9988, val_loss=0.0000, val_accuracy=1.0000\n",
      "Epoch time: 12.03s, estimated remaining: 24.06s\n",
      "\n"
     ]
    },
    {
     "name": "stderr",
     "output_type": "stream",
     "text": [
      "Epoch 19/20: 100%|██████████| 529/529 [00:11<00:00, 46.14batch/s, loss=0]       \n"
     ]
    },
    {
     "name": "stdout",
     "output_type": "stream",
     "text": [
      "Epoch 19/20: loss=0.0174, accuracy=0.9976, val_loss=0.0000, val_accuracy=1.0000\n",
      "Epoch time: 12.02s, estimated remaining: 12.02s\n",
      "\n"
     ]
    },
    {
     "name": "stderr",
     "output_type": "stream",
     "text": [
      "Epoch 20/20: 100%|██████████| 529/529 [00:11<00:00, 45.94batch/s, loss=0]       \n"
     ]
    },
    {
     "name": "stdout",
     "output_type": "stream",
     "text": [
      "Epoch 20/20: loss=0.0027, accuracy=0.9995, val_loss=0.0000, val_accuracy=1.0000\n",
      "Epoch time: 12.07s, estimated remaining: 0.00s\n",
      "\n"
     ]
    }
   ],
   "source": [
    "epochs = 20\n",
    "history = {'loss': [], 'val_loss': [], 'accuracy': [], 'val_accuracy': []}\n",
    "\n",
    "print(\"Training the model...\")\n",
    "for epoch in range(epochs):\n",
    "    model.train()\n",
    "    running_loss = 0.0\n",
    "    correct = 0\n",
    "    total = 0\n",
    "    \n",
    "    epoch_start = time.time()\n",
    "    \n",
    "    pbar = tqdm(train_loader, desc=f\"Epoch {epoch+1}/{epochs}\", unit=\"batch\")\n",
    "    for images, labels in pbar:\n",
    "        images, labels = images.to(device), labels.to(device)\n",
    "        optimizer.zero_grad()\n",
    "        outputs = model(images)\n",
    "        loss = criterion(outputs, labels)\n",
    "        loss.backward()\n",
    "        optimizer.step()\n",
    "        \n",
    "        running_loss += loss.item() * images.size(0)\n",
    "        _, preds = torch.max(outputs, 1)\n",
    "        correct += (preds == labels).sum().item()\n",
    "        total += labels.size(0)\n",
    "        \n",
    "        pbar.set_postfix(loss=loss.item())\n",
    "    \n",
    "    epoch_loss = running_loss / total\n",
    "    epoch_acc = correct / total\n",
    "    \n",
    "    # Evaluate on test dataset\n",
    "    model.eval()\n",
    "    running_loss_val = 0.0\n",
    "    correct_val = 0\n",
    "    total_val = 0\n",
    "    with torch.no_grad():\n",
    "        for images, labels in test_loader:\n",
    "            images, labels = images.to(device), labels.to(device)\n",
    "            outputs = model(images)\n",
    "            loss = criterion(outputs, labels)\n",
    "            running_loss_val += loss.item() * images.size(0)\n",
    "            _, preds = torch.max(outputs, 1)\n",
    "            correct_val += (preds == labels).sum().item()\n",
    "            total_val += labels.size(0)\n",
    "    epoch_loss_val = running_loss_val / total_val\n",
    "    epoch_acc_val = correct_val / total_val\n",
    "    \n",
    "    history['loss'].append(epoch_loss)\n",
    "    history['accuracy'].append(epoch_acc)\n",
    "    history['val_loss'].append(epoch_loss_val)\n",
    "    history['val_accuracy'].append(epoch_acc_val)\n",
    "    \n",
    "    epoch_duration = time.time() - epoch_start\n",
    "    remaining_time = (epochs - epoch - 1) * epoch_duration\n",
    "    print(f\"Epoch {epoch+1}/{epochs}: loss={epoch_loss:.4f}, accuracy={epoch_acc:.4f}, \"f\"val_loss={epoch_loss_val:.4f}, val_accuracy={epoch_acc_val:.4f}\")\n",
    "    print(f\"Epoch time: {epoch_duration:.2f}s, estimated remaining: {remaining_time:.2f}s\\n\")\n",
    "\n",
    "# Save the model and training history\n",
    "model_save_path = os.path.join(root_dir_model, 'traffic_sign_cnn_V03.pth')\n",
    "torch.save(model.state_dict(), model_save_path)\n",
    "\n",
    "history_df = pd.DataFrame(history)\n",
    "history_df.to_csv(os.path.join(root_dir_model, 'historyV03.csv'), index=False)"
   ]
  },
  {
   "cell_type": "markdown",
   "metadata": {},
   "source": [
    "# Eval"
   ]
  },
  {
   "cell_type": "code",
   "execution_count": 12,
   "metadata": {},
   "outputs": [],
   "source": [
    "def evaluate_model(model, test_loader, criterion, device):\n",
    "    model.eval()\n",
    "    running_loss = 0.0\n",
    "    correct = 0\n",
    "    total = 0\n",
    "    with torch.no_grad():\n",
    "        for images, labels in test_loader:\n",
    "            images = images.to(device)\n",
    "            labels = labels.to(device)\n",
    "            outputs = model(images)\n",
    "            loss = criterion(outputs, labels)\n",
    "            running_loss += loss.item() * images.size(0)\n",
    "            _, preds = torch.max(outputs, 1)\n",
    "            correct += (preds == labels).sum().item()\n",
    "            total += labels.size(0)\n",
    "    avg_loss = running_loss / total\n",
    "    accuracy = correct / total\n",
    "    return avg_loss, accuracy"
   ]
  },
  {
   "cell_type": "code",
   "execution_count": 13,
   "metadata": {},
   "outputs": [
    {
     "name": "stdout",
     "output_type": "stream",
     "text": [
      "----------- Starting Model Evaluation -----------\n",
      "Loading preprocessed test data...\n",
      "Loading model...\n",
      "Evaluating model on test data...\n",
      "Test Loss: 0.0000, Test Accuracy: 100.00%\n",
      "Loading training history...\n"
     ]
    },
    {
     "data": {
      "image/png": "[encoded data removed]",
      "text/plain": [
       "<Figure size 1200x500 with 2 Axes>"
      ]
     },
     "metadata": {},
     "output_type": "display_data"
    },
    {
     "name": "stdout",
     "output_type": "stream",
     "text": [
      "----------- Model Evaluation Complete -----------\n"
     ]
    }
   ],
   "source": [
    "root_dir = r'Dataset'\n",
    "root_dir_model = r'TrainedModels'\n",
    "batch_size = 64\n",
    "\n",
    "print(\"----------- Starting Model Evaluation -----------\")\n",
    "print(\"Loading preprocessed test data...\")\n",
    "\n",
    "# Load preprocessed test data (assumed to be saved as NPY files)\n",
    "X_test = np.load(os.path.join(root_dir, 'X_test_data.npy'))\n",
    "y_test = np.load(os.path.join(root_dir, 'y_test_labels.npy'))\n",
    "# Convert one-hot labels to integer labels\n",
    "y_test = np.argmax(y_test, axis=1)\n",
    "\n",
    "# Convert to torch tensors (expected shape: (N, C, H, W))\n",
    "X_test = torch.tensor(X_test, dtype=torch.float32)\n",
    "y_test = torch.tensor(y_test, dtype=torch.long)\n",
    "\n",
    "test_dataset = TensorDataset(X_test, y_test)\n",
    "test_loader = DataLoader(test_dataset, batch_size=batch_size, shuffle=False)\n",
    "\n",
    "print(\"Loading model...\")\n",
    "device = torch.device(\"cuda\" if torch.cuda.is_available() else \"cpu\")\n",
    "model = TrafficSignCNN(num_classes=12).to(device)\n",
    "model_path = os.path.join(root_dir_model, 'traffic_sign_cnn_V03.pth')\n",
    "model.load_state_dict(torch.load(model_path, map_location=device))\n",
    "\n",
    "criterion = nn.CrossEntropyLoss()\n",
    "\n",
    "print(\"Evaluating model on test data...\")\n",
    "test_loss, test_acc = evaluate_model(model, test_loader, criterion, device)\n",
    "print(f\"Test Loss: {test_loss:.4f}, Test Accuracy: {test_acc * 100:.2f}%\")\n",
    "\n",
    "# Load training history from CSV file\n",
    "history_path = os.path.join(root_dir_model, 'historyV03.csv')\n",
    "if os.path.exists(history_path):\n",
    "    print(\"Loading training history...\")\n",
    "    history_df = pd.read_csv(history_path)\n",
    "    \n",
    "    plt.figure(figsize=(12, 5))\n",
    "    # Accuracy plot\n",
    "    plt.subplot(1, 2, 1)\n",
    "    plt.plot(history_df['accuracy'], label='Train Accuracy')\n",
    "    plt.plot(history_df['val_accuracy'], label='Validation Accuracy')\n",
    "    plt.title('Model Accuracy')\n",
    "    plt.xlabel('Epoch')\n",
    "    plt.ylabel('Accuracy')\n",
    "    plt.legend()\n",
    "    \n",
    "    # Loss plot\n",
    "    plt.subplot(1, 2, 2)\n",
    "    plt.plot(history_df['loss'], label='Train Loss')\n",
    "    plt.plot(history_df['val_loss'], label='Validation Loss')\n",
    "    plt.title('Model Loss')\n",
    "    plt.xlabel('Epoch')\n",
    "    plt.ylabel('Loss')\n",
    "    plt.legend()\n",
    "    \n",
    "    plt.savefig(os.path.join(root_dir_model, 'evaluation_plotsV03.png'))\n",
    "    plt.show()\n",
    "\n",
    "print(\"----------- Model Evaluation Complete -----------\")"
   ]
  },
  {
   "cell_type": "markdown",
   "metadata": {},
   "source": [
    "# Streamlit"
   ]
  },
  {
   "cell_type": "code",
   "execution_count": null,
   "metadata": {},
   "outputs": [],
   "source": [
    "import streamlit as st"
   ]
  },
  {
   "cell_type": "code",
   "execution_count": null,
   "metadata": {},
   "outputs": [],
   "source": [
    "dataset_mean = [0.48011, 0.47254, 0.52592]\n",
    "dataset_std = [0.20765, 0.21533, 0.20043]\n",
    "img_size = 32"
   ]
  },
  {
   "cell_type": "code",
   "execution_count": null,
   "metadata": {},
   "outputs": [],
   "source": [
    "transform_simple = A.Compose([\n",
    "        A.Normalize(\n",
    "            mean=tuple(dataset_mean),\n",
    "            std=tuple(dataset_std)\n",
    "        ),\n",
    "        A.Resize(img_size, img_size),\n",
    "        ToTensorV2()\n",
    "    ])"
   ]
  },
  {
   "cell_type": "code",
   "execution_count": null,
   "metadata": {},
   "outputs": [],
   "source": [
    "root_dir_model = r'TrainedModels/traffic_sign_cnn_V03.pth'\n",
    "\n",
    "device = torch.device(\"cuda\" if torch.cuda.is_available() else \"cpu\")\n",
    "model = TrafficSignCNN(num_classes=12).to(device)\n",
    "model.load_state_dict(torch.load(model_path, map_location=device))\n",
    "model.eval()"
   ]
  },
  {
   "cell_type": "code",
   "execution_count": null,
   "metadata": {},
   "outputs": [],
   "source": [
    "st.title(\"Traffic Sign Recognition App (PyTorch)\")\n",
    "\n",
    "uploaded_file = st.file_uploader(\"Choose a traffic sign image...\", type=[\"jpg\", \"png\", \"jpeg\"])\n",
    "if uploaded_file is not None:\n",
    "    # Open and display the uploaded image\n",
    "    image = Image.open(uploaded_file).convert(\"RGB\")\n",
    "    st.image(image, caption=\"Uploaded Image\", use_column_width=True)\n",
    "    \n",
    "    # Convert PIL image to numpy array (HWC) with values in [0,255]\n",
    "    image_np = np.array(image)\n",
    "    # For Albumentations, the image should be a numpy array\n",
    "    # Apply the same transform as in your dataset pipeline\n",
    "    transformed = transform_simple(image=image_np)\n",
    "    input_tensor = transformed[\"image\"].unsqueeze(0).to(device)\n",
    "    \n",
    "    with torch.no_grad():\n",
    "        outputs = model(input_tensor)\n",
    "        probabilities = torch.softmax(outputs, dim=1)\n",
    "        confidence, predicted_class = torch.max(probabilities, dim=1)\n",
    "        predicted_class = predicted_class.item()\n",
    "        confidence = confidence.item()\n",
    "    \n",
    "    st.write(f\"Predicted Class: {predicted_class} with confidence {confidence * 100:.2f}%\")\n",
    "    st.write(\"Model output probabilities:\", probabilities.cpu().numpy())\n",
    "\n",
    "st.write(\"----------- Streamlit App Running -----------\")"
   ]
  }
 ],
 "metadata": {
  "kernelspec": {
   "display_name": "torch_env",
   "language": "python",
   "name": "python3"
  },
  "language_info": {
   "codemirror_mode": {
    "name": "ipython",
    "version": 3
   },
   "file_extension": ".py",
   "mimetype": "text/x-python",
   "name": "python",
   "nbconvert_exporter": "python",
   "pygments_lexer": "ipython3",
   "version": "3.11.11"
  }
 },
 "nbformat": 4,
 "nbformat_minor": 2
}
