{
 "cells": [
  {
   "cell_type": "code",
   "execution_count": 3,
   "metadata": {},
   "outputs": [],
   "source": [
    "import os\n",
    "\n",
    "import cv2\n",
    "from tqdm import tqdm"
   ]
  },
  {
   "cell_type": "markdown",
   "metadata": {},
   "source": [
    "# Frame Extracter"
   ]
  },
  {
   "cell_type": "code",
   "execution_count": null,
   "metadata": {},
   "outputs": [],
   "source": [
    "input_dir = r'E:\\Dataset\\Video'\n",
    "output_dir = r'E:\\Dataset\\Frame'"
   ]
  },
  {
   "cell_type": "code",
   "execution_count": null,
   "metadata": {},
   "outputs": [
    {
     "name": "stdout",
     "output_type": "stream",
     "text": [
      "Completed:  parking_zone_raw.mp4 - 973\n",
      "Completed:  priority_over_raw.mp4 - 933\n"
     ]
    }
   ],
   "source": [
    "video_files = [f for f in os.listdir(input_dir)]\n",
    "\n",
    "for video_name in video_files:\n",
    "    video_path = os.path.join(input_dir, video_name)\n",
    "    vid = cv2.VideoCapture(video_path)\n",
    "    \n",
    "    if not vid.isOpened():\n",
    "        print(f\"failed to open {video_name}\")\n",
    "        continue\n",
    "    \n",
    "    current_frame = 0\n",
    "    sign_name = os.path.splitext(video_name)[0]\n",
    "    data_folder = os.path.join(output_dir, sign_name)\n",
    "\n",
    "    if not os.path.exists(data_folder):\n",
    "        os.makedirs(data_folder)\n",
    "\n",
    "    while (True):\n",
    "\n",
    "        success, frame = vid.read()\n",
    "        if not success:\n",
    "            break\n",
    "        \n",
    "        # rotated_frame = cv2.rotate(frame, cv2.ROTATE_90_CLOCKWISE)\n",
    "        \n",
    "        cv2.imshow(\"output\", frame)\n",
    "        cv2.imwrite(os.path.join(data_folder, f\"frame_{current_frame}.png\"),\n",
    "                                frame)\n",
    "        current_frame += 1\n",
    "\n",
    "        if cv2.waitKey(1) & 0xFF == ord('q'):\n",
    "            break\n",
    "\n",
    "    vid.release()\n",
    "    print(f\"Completed:  {video_name} - {current_frame}\")\n",
    "    cv2.destroyAllWindows()"
   ]
  },
  {
   "cell_type": "markdown",
   "metadata": {},
   "source": [
    "# Crop to 1:1"
   ]
  },
  {
   "cell_type": "code",
   "execution_count": 14,
   "metadata": {},
   "outputs": [],
   "source": [
    "input_dir = r'Dataset\\Frame'\n",
    "output_dir = r'Dataset\\Crop'\n",
    "\n",
    "# Vertical crop range\n",
    "y1 = 420\n",
    "y2 = 1500"
   ]
  },
  {
   "cell_type": "code",
   "execution_count": 13,
   "metadata": {},
   "outputs": [
    {
     "name": "stderr",
     "output_type": "stream",
     "text": [
      "Processing images:   0%|          | 0/951 [00:00<?, ?it/s]"
     ]
    },
    {
     "name": "stderr",
     "output_type": "stream",
     "text": [
      "Processing images: 100%|██████████| 951/951 [01:32<00:00, 10.32it/s]"
     ]
    },
    {
     "name": "stdout",
     "output_type": "stream",
     "text": [
      "Done!\n"
     ]
    },
    {
     "name": "stderr",
     "output_type": "stream",
     "text": [
      "\n"
     ]
    }
   ],
   "source": [
    "img_files = [f for f in os.listdir(input_dir) if f.endswith(('.jpg', '.jpeg', '.png'))]\n",
    "\n",
    "for filename in tqdm(img_files, desc=\"Processing images\"):\n",
    "        \n",
    "        img_path = os.path.join(input_dir, filename)\n",
    "        img = cv2.imread(img_path)\n",
    "\n",
    "        cropped_img = img[y1:y2, :]\n",
    "\n",
    "        output_path = os.path.join(output_dir, filename)\n",
    "        cv2.imwrite(output_path, cropped_img)\n",
    "\n",
    "print(\"Done!\")"
   ]
  },
  {
   "cell_type": "code",
   "execution_count": null,
   "metadata": {},
   "outputs": [],
   "source": []
  }
 ],
 "metadata": {
  "kernelspec": {
   "display_name": "cuda_env",
   "language": "python",
   "name": "python3"
  },
  "language_info": {
   "codemirror_mode": {
    "name": "ipython",
    "version": 3
   },
   "file_extension": ".py",
   "mimetype": "text/x-python",
   "name": "python",
   "nbconvert_exporter": "python",
   "pygments_lexer": "ipython3",
   "version": "3.11.11"
  }
 },
 "nbformat": 4,
 "nbformat_minor": 2
}
