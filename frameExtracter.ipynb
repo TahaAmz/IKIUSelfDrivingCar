{
 "cells": [
  {
   "cell_type": "code",
   "execution_count": 1,
   "metadata": {},
   "outputs": [],
   "source": [
    "import os\n",
    "import re\n",
    "\n",
    "import cv2\n",
    "from tqdm import tqdm"
   ]
  },
  {
   "cell_type": "markdown",
   "metadata": {},
   "source": [
    "# Frame Extracter"
   ]
  },
  {
   "cell_type": "code",
   "execution_count": null,
   "metadata": {},
   "outputs": [],
   "source": [
    "input_dir = r'E:\\Dataset\\Video'\n",
    "output_dir = r'E:\\Dataset\\Frame'"
   ]
  },
  {
   "cell_type": "code",
   "execution_count": null,
   "metadata": {},
   "outputs": [],
   "source": [
    "video_files = [f for f in os.listdir(input_dir)]\n",
    "\n",
    "for video_name in video_files:\n",
    "    video_path = os.path.join(input_dir, video_name)\n",
    "    vid = cv2.VideoCapture(video_path)\n",
    "    \n",
    "    if not vid.isOpened():\n",
    "        print(f\"failed to open {video_name}\")\n",
    "        continue\n",
    "    \n",
    "    current_frame = 0\n",
    "    sign_name = os.path.splitext(video_name)[0]\n",
    "    data_folder = os.path.join(output_dir, sign_name)\n",
    "\n",
    "    if not os.path.exists(data_folder):\n",
    "        os.makedirs(data_folder)\n",
    "\n",
    "    while (True):\n",
    "\n",
    "        success, frame = vid.read()\n",
    "        if not success:\n",
    "            break\n",
    "        \n",
    "        # rotated_frame = cv2.rotate(frame, cv2.ROTATE_90_CLOCKWISE)\n",
    "        \n",
    "        cv2.imshow(\"output\", frame)\n",
    "        cv2.imwrite(os.path.join(data_folder, f\"frame_{current_frame}.png\"),\n",
    "                                frame)\n",
    "        current_frame += 1\n",
    "\n",
    "        if cv2.waitKey(1) & 0xFF == ord('q'):\n",
    "            break\n",
    "\n",
    "    vid.release()\n",
    "    print(f\"Completed:  {video_name} - {current_frame}\")\n",
    "    cv2.destroyAllWindows()"
   ]
  },
  {
   "cell_type": "markdown",
   "metadata": {},
   "source": [
    "# Crop to 1:1"
   ]
  },
  {
   "cell_type": "code",
   "execution_count": null,
   "metadata": {},
   "outputs": [],
   "source": [
    "base_dir = r'Dataset'\n",
    "\n",
    "y1 = 420\n",
    "y2 = 1500"
   ]
  },
  {
   "cell_type": "code",
   "execution_count": null,
   "metadata": {},
   "outputs": [],
   "source": [
    "for folder in os.listdir((base_dir)):\n",
    "        input_dir = os.path.join(base_dir, folder)\n",
    "        if not os.path.isdir(input_dir):\n",
    "                continue\n",
    "        \n",
    "        output_dir = os.path.join(base_dir, folder + \"_cropped\")\n",
    "        \n",
    "        if not os.path.exists(output_dir):\n",
    "                os.makedirs(output_dir)\n",
    "        \n",
    "\n",
    "        img_files = [f for f in os.listdir(input_dir) if f.lower().endswith(('.jpg', '.jpeg', '.png'))]\n",
    "\n",
    "        for filename in tqdm(img_files, desc=f\"Processing {folder}\", unit=\"file\"):\n",
    "                \n",
    "                img_path = os.path.join(input_dir, filename)\n",
    "                img = cv2.imread(img_path)\n",
    "                \n",
    "                if img is None:\n",
    "                    print(f\"Error reading image: {img_path}\")\n",
    "                    continue\n",
    "\n",
    "                cropped_img = img[y1:y2, :]\n",
    "\n",
    "                output_path = os.path.join(output_dir, filename)\n",
    "                cv2.imwrite(output_path, cropped_img)\n",
    "\n",
    "print(\"Done!\")"
   ]
  },
  {
   "cell_type": "markdown",
   "metadata": {},
   "source": [
    "# Renaming the Frames"
   ]
  },
  {
   "cell_type": "code",
   "execution_count": 2,
   "metadata": {},
   "outputs": [],
   "source": [
    "base_dir = r'Dataset'\n",
    "\n",
    "def natural_sort_key(s):\n",
    "    return [int(text) if text.isdigit() else text.lower() \n",
    "            for text in re.split(r'(\\d+)', s)]"
   ]
  },
  {
   "cell_type": "code",
   "execution_count": 3,
   "metadata": {},
   "outputs": [
    {
     "name": "stderr",
     "output_type": "stream",
     "text": [
      "Moving 'barred_area' files: 100%|██████████| 626/626 [00:00<00:00, 724.26file/s]\n",
      "Renaming 'barred_area': 100%|██████████| 626/626 [00:00<00:00, 1638.75file/s]\n",
      "Moving 'cross_walk' files: 100%|██████████| 599/599 [00:00<00:00, 1360.83file/s]\n",
      "Renaming 'cross_walk': 100%|██████████| 599/599 [00:00<00:00, 1374.33file/s]\n",
      "Moving 'go_straight' files: 100%|██████████| 509/509 [00:00<00:00, 1786.71file/s]\n",
      "Renaming 'go_straight': 100%|██████████| 509/509 [00:00<00:00, 1175.27file/s]\n",
      "Moving 'no_passing_zone_beginning' files: 100%|██████████| 575/575 [00:00<00:00, 1816.98file/s]\n",
      "Renaming 'no_passing_zone_beginning': 100%|██████████| 575/575 [00:00<00:00, 1173.84file/s]\n",
      "Moving 'parking_zone' files: 100%|██████████| 503/503 [00:00<00:00, 1494.87file/s]\n",
      "Renaming 'parking_zone': 100%|██████████| 503/503 [00:00<00:00, 1498.08file/s]\n",
      "Moving 'priority_over' files: 100%|██████████| 591/591 [00:00<00:00, 1418.95file/s]\n",
      "Renaming 'priority_over': 100%|██████████| 591/591 [00:00<00:00, 1682.17file/s]\n",
      "Moving 'steep_hill_downhill' files: 100%|██████████| 453/453 [00:00<00:00, 1183.52file/s]\n",
      "Renaming 'steep_hill_downhill': 100%|██████████| 453/453 [00:00<00:00, 1696.26file/s]\n",
      "Moving 'steep_hill_uphill' files: 100%|██████████| 505/505 [00:00<00:00, 1378.34file/s]\n",
      "Renaming 'steep_hill_uphill': 100%|██████████| 505/505 [00:00<00:00, 1451.96file/s]\n",
      "Moving 'stop' files: 100%|██████████| 568/568 [00:00<00:00, 643.01file/s]\n",
      "Renaming 'stop': 100%|██████████| 568/568 [00:00<00:00, 1145.53file/s]\n",
      "Moving 'tunnel_beginning' files: 100%|██████████| 619/619 [00:00<00:00, 1524.59file/s]\n",
      "Renaming 'tunnel_beginning': 100%|██████████| 619/619 [00:00<00:00, 1561.49file/s]\n",
      "Moving 'turn_left' files: 100%|██████████| 598/598 [00:00<00:00, 1556.70file/s]\n",
      "Renaming 'turn_left': 100%|██████████| 598/598 [00:00<00:00, 1053.18file/s]\n",
      "Moving 'turn_right' files: 100%|██████████| 573/573 [00:00<00:00, 1077.90file/s]\n",
      "Renaming 'turn_right': 100%|██████████| 573/573 [00:00<00:00, 1039.58file/s]\n",
      "Processing folders: 100%|██████████| 12/12 [00:10<00:00,  1.11folder/s]"
     ]
    },
    {
     "name": "stdout",
     "output_type": "stream",
     "text": [
      "Done!\n"
     ]
    },
    {
     "name": "stderr",
     "output_type": "stream",
     "text": [
      "\n"
     ]
    }
   ],
   "source": [
    "for folder in tqdm(os.listdir(base_dir), desc=\"Processing folders\", unit=\"folder\"):\n",
    "    folder_path = os.path.join(base_dir, folder)\n",
    "    \n",
    "    if not os.path.isdir(folder_path):\n",
    "        continue\n",
    "\n",
    "    img_files = [f for f in os.listdir(folder_path) \n",
    "                if f.lower().endswith(('.jpg', '.jpeg', '.png'))\n",
    "                and not re.match(r'^frame_\\d{4}\\..+$', f)]\n",
    "    \n",
    "    if not img_files:\n",
    "        continue\n",
    "\n",
    "    img_files.sort(key=natural_sort_key)\n",
    "    temp_dir = os.path.join(folder_path, \"temp_renumber\")\n",
    "    os.makedirs(temp_dir, exist_ok=True)\n",
    "\n",
    "    for filename in tqdm(img_files, desc=f\"Moving '{folder}' files\", unit=\"file\"):\n",
    "        src = os.path.join(folder_path, filename)\n",
    "        dst = os.path.join(temp_dir, filename)\n",
    "        os.rename(src, dst)\n",
    "\n",
    "    temp_files = sorted(os.listdir(temp_dir), key=natural_sort_key)\n",
    "    for idx, filename in enumerate(tqdm(temp_files, desc=f\"Renaming '{folder}'\", unit=\"file\"), 1):\n",
    "        ext = os.path.splitext(filename)[1].lower()\n",
    "        new_name = f\"frame_{idx:04d}{ext}\"\n",
    "        os.rename(os.path.join(temp_dir, filename),\n",
    "                 os.path.join(folder_path, new_name))\n",
    "\n",
    "    os.rmdir(temp_dir)\n",
    "\n",
    "print(\"Done!\")"
   ]
  },
  {
   "cell_type": "code",
   "execution_count": null,
   "metadata": {},
   "outputs": [],
   "source": []
  }
 ],
 "metadata": {
  "kernelspec": {
   "display_name": "cuda_env",
   "language": "python",
   "name": "python3"
  },
  "language_info": {
   "codemirror_mode": {
    "name": "ipython",
    "version": 3
   },
   "file_extension": ".py",
   "mimetype": "text/x-python",
   "name": "python",
   "nbconvert_exporter": "python",
   "pygments_lexer": "ipython3",
   "version": "3.11.11"
  }
 },
 "nbformat": 4,
 "nbformat_minor": 2
}
