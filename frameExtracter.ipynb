{
 "cells": [
  {
   "cell_type": "code",
   "execution_count": null,
   "metadata": {},
   "outputs": [],
   "source": [
    "import os\n",
    "import re\n",
    "import cv2\n",
    "from tqdm import tqdm"
   ]
  },
  {
   "cell_type": "markdown",
   "metadata": {},
   "source": [
    "# Frame Extracter"
   ]
  },
  {
   "cell_type": "code",
   "execution_count": null,
   "metadata": {},
   "outputs": [],
   "source": [
    "input_dir = r'E:\\Dataset\\Video'\n",
    "output_dir = r'E:\\Dataset\\Frame'"
   ]
  },
  {
   "cell_type": "code",
   "execution_count": null,
   "metadata": {},
   "outputs": [],
   "source": [
    "video_files = [f for f in os.listdir(input_dir)]\n",
    "\n",
    "for video_name in video_files:\n",
    "    video_path = os.path.join(input_dir, video_name)\n",
    "    vid = cv2.VideoCapture(video_path)\n",
    "    \n",
    "    if not vid.isOpened():\n",
    "        print(f\"failed to open {video_name}\")\n",
    "        continue\n",
    "    \n",
    "    current_frame = 0\n",
    "    sign_name = os.path.splitext(video_name)[0]\n",
    "    data_folder = os.path.join(output_dir, sign_name)\n",
    "\n",
    "    if not os.path.exists(data_folder):\n",
    "        os.makedirs(data_folder)\n",
    "\n",
    "    while (True):\n",
    "\n",
    "        success, frame = vid.read()\n",
    "        if not success:\n",
    "            break\n",
    "        \n",
    "        # rotated_frame = cv2.rotate(frame, cv2.ROTATE_90_CLOCKWISE)\n",
    "        \n",
    "        cv2.imshow(\"output\", frame)\n",
    "        cv2.imwrite(os.path.join(data_folder, f\"frame_{current_frame}.png\"),\n",
    "                                frame)\n",
    "        current_frame += 1\n",
    "\n",
    "        if cv2.waitKey(1) & 0xFF == ord('q'):\n",
    "            break\n",
    "\n",
    "    vid.release()\n",
    "    print(f\"Completed:  {video_name} - {current_frame}\")\n",
    "    cv2.destroyAllWindows()"
   ]
  },
  {
   "cell_type": "markdown",
   "metadata": {},
   "source": [
    "# Crop to 1:1"
   ]
  },
  {
   "cell_type": "code",
   "execution_count": null,
   "metadata": {},
   "outputs": [],
   "source": [
    "base_dir = r'Dataset'\n",
    "\n",
    "y1 = 420\n",
    "y2 = 1500"
   ]
  },
  {
   "cell_type": "code",
   "execution_count": null,
   "metadata": {},
   "outputs": [],
   "source": [
    "for folder in os.listdir((base_dir)):\n",
    "        input_dir = os.path.join(base_dir, folder)\n",
    "        if not os.path.isdir(input_dir):\n",
    "                continue\n",
    "        \n",
    "        output_dir = os.path.join(base_dir, folder + \"_cropped\")\n",
    "        \n",
    "        if not os.path.exists(output_dir):\n",
    "                os.makedirs(output_dir)\n",
    "        \n",
    "\n",
    "        img_files = [f for f in os.listdir(input_dir) if f.lower().endswith(('.jpg', '.jpeg', '.png'))]\n",
    "\n",
    "        for filename in tqdm(img_files, desc=f\"Processing {folder}\", unit=\"file\"):\n",
    "                \n",
    "                img_path = os.path.join(input_dir, filename)\n",
    "                img = cv2.imread(img_path)\n",
    "                \n",
    "                if img is None:\n",
    "                    print(f\"Error reading image: {img_path}\")\n",
    "                    continue\n",
    "\n",
    "                cropped_img = img[y1:y2, :]\n",
    "\n",
    "                output_path = os.path.join(output_dir, filename)\n",
    "                cv2.imwrite(output_path, cropped_img)\n",
    "\n",
    "print(\"Done!\")"
   ]
  },
  {
   "cell_type": "markdown",
   "metadata": {},
   "source": [
    "# Renaming the Frames"
   ]
  },
  {
   "cell_type": "code",
   "execution_count": null,
   "metadata": {},
   "outputs": [],
   "source": [
    "base_dir = r'Dataset'\n",
    "\n",
    "def natural_sort_key(s):\n",
    "    return [int(text) if text.isdigit() else text.lower() \n",
    "            for text in re.split(r'(\\d+)', s)]"
   ]
  },
  {
   "cell_type": "code",
   "execution_count": null,
   "metadata": {},
   "outputs": [],
   "source": [
    "for folder in tqdm(os.listdir(base_dir), desc=\"Processing folders\", unit=\"folder\"):\n",
    "    folder_path = os.path.join(base_dir, folder)\n",
    "    \n",
    "    if not os.path.isdir(folder_path):\n",
    "        continue\n",
    "\n",
    "    img_files = [f for f in os.listdir(folder_path) \n",
    "                if f.lower().endswith(('.jpg', '.jpeg', '.png'))\n",
    "                and not re.match(r'^frame_\\d{4}\\..+$', f)]\n",
    "    \n",
    "    if not img_files:\n",
    "        continue\n",
    "\n",
    "    img_files.sort(key=natural_sort_key)\n",
    "    temp_dir = os.path.join(folder_path, \"temp_renumber\")\n",
    "    os.makedirs(temp_dir, exist_ok=True)\n",
    "\n",
    "    for filename in tqdm(img_files, desc=f\"Moving '{folder}' files\", unit=\"file\"):\n",
    "        src = os.path.join(folder_path, filename)\n",
    "        dst = os.path.join(temp_dir, filename)\n",
    "        os.rename(src, dst)\n",
    "\n",
    "    temp_files = sorted(os.listdir(temp_dir), key=natural_sort_key)\n",
    "    for idx, filename in enumerate(tqdm(temp_files, desc=f\"Renaming '{folder}'\", unit=\"file\"), 1):\n",
    "        ext = os.path.splitext(filename)[1].lower()\n",
    "        new_name = f\"frame_{idx:04d}{ext}\"\n",
    "        os.rename(os.path.join(temp_dir, filename),\n",
    "                 os.path.join(folder_path, new_name))\n",
    "\n",
    "    os.rmdir(temp_dir)\n",
    "\n",
    "print(\"Done!\")"
   ]
  },
  {
   "cell_type": "code",
   "execution_count": null,
   "metadata": {},
   "outputs": [],
   "source": []
  }
 ],
 "metadata": {
  "kernelspec": {
   "display_name": "cuda_env",
   "language": "python",
   "name": "python3"
  },
  "language_info": {
   "codemirror_mode": {
    "name": "ipython",
    "version": 3
   },
   "file_extension": ".py",
   "mimetype": "text/x-python",
   "name": "python",
   "nbconvert_exporter": "python",
   "pygments_lexer": "ipython3",
   "version": "3.11.11"
  }
 },
 "nbformat": 4,
 "nbformat_minor": 2
}
